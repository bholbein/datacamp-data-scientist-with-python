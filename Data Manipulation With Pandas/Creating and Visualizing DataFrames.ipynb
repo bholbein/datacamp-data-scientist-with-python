{
 "cells": [
  {
   "cell_type": "markdown",
   "metadata": {},
   "source": [
    "# Visualizing your data\n"
   ]
  },
  {
   "cell_type": "markdown",
   "metadata": {},
   "source": [
    "## Which avocado size is most popular?\n"
   ]
  },
  {
   "cell_type": "code",
   "execution_count": 8,
   "metadata": {},
   "outputs": [
    {
     "data": {
      "text/html": [
       "<div>\n",
       "<style>\n",
       "    .dataframe thead tr:only-child th {\n",
       "        text-align: right;\n",
       "    }\n",
       "\n",
       "    .dataframe thead th {\n",
       "        text-align: left;\n",
       "    }\n",
       "\n",
       "    .dataframe tbody tr th {\n",
       "        vertical-align: top;\n",
       "    }\n",
       "</style>\n",
       "<table border=\"1\" class=\"dataframe\">\n",
       "  <thead>\n",
       "    <tr style=\"text-align: right;\">\n",
       "      <th></th>\n",
       "      <th>date</th>\n",
       "      <th>type</th>\n",
       "      <th>year</th>\n",
       "      <th>avg_price</th>\n",
       "      <th>size</th>\n",
       "      <th>nb_sold</th>\n",
       "    </tr>\n",
       "  </thead>\n",
       "  <tbody>\n",
       "    <tr>\n",
       "      <th>0</th>\n",
       "      <td>2015-12-27</td>\n",
       "      <td>conventional</td>\n",
       "      <td>2015</td>\n",
       "      <td>0.95</td>\n",
       "      <td>small</td>\n",
       "      <td>9626901.09</td>\n",
       "    </tr>\n",
       "    <tr>\n",
       "      <th>1</th>\n",
       "      <td>2015-12-20</td>\n",
       "      <td>conventional</td>\n",
       "      <td>2015</td>\n",
       "      <td>0.98</td>\n",
       "      <td>small</td>\n",
       "      <td>8710021.76</td>\n",
       "    </tr>\n",
       "    <tr>\n",
       "      <th>2</th>\n",
       "      <td>2015-12-13</td>\n",
       "      <td>conventional</td>\n",
       "      <td>2015</td>\n",
       "      <td>0.93</td>\n",
       "      <td>small</td>\n",
       "      <td>9855053.66</td>\n",
       "    </tr>\n",
       "    <tr>\n",
       "      <th>3</th>\n",
       "      <td>2015-12-06</td>\n",
       "      <td>conventional</td>\n",
       "      <td>2015</td>\n",
       "      <td>0.89</td>\n",
       "      <td>small</td>\n",
       "      <td>9405464.36</td>\n",
       "    </tr>\n",
       "    <tr>\n",
       "      <th>4</th>\n",
       "      <td>2015-11-29</td>\n",
       "      <td>conventional</td>\n",
       "      <td>2015</td>\n",
       "      <td>0.99</td>\n",
       "      <td>small</td>\n",
       "      <td>8094803.56</td>\n",
       "    </tr>\n",
       "  </tbody>\n",
       "</table>\n",
       "</div>"
      ],
      "text/plain": [
       "        date          type  year  avg_price   size     nb_sold\n",
       "0 2015-12-27  conventional  2015       0.95  small  9626901.09\n",
       "1 2015-12-20  conventional  2015       0.98  small  8710021.76\n",
       "2 2015-12-13  conventional  2015       0.93  small  9855053.66\n",
       "3 2015-12-06  conventional  2015       0.89  small  9405464.36\n",
       "4 2015-11-29  conventional  2015       0.99  small  8094803.56"
      ]
     },
     "execution_count": 8,
     "metadata": {},
     "output_type": "execute_result"
    }
   ],
   "source": [
    "import pandas as pd\n",
    "avocados = pd.read_csv(\"datasets/avocados.csv\", parse_dates=[\"date\"])\n",
    "avocados.head()"
   ]
  },
  {
   "cell_type": "code",
   "execution_count": 9,
   "metadata": {},
   "outputs": [
    {
     "name": "stdout",
     "output_type": "stream",
     "text": [
      "<class 'pandas.core.frame.DataFrame'>\n",
      "RangeIndex: 1014 entries, 0 to 1013\n",
      "Data columns (total 6 columns):\n",
      "date         1014 non-null datetime64[ns]\n",
      "type         1014 non-null object\n",
      "year         1014 non-null int64\n",
      "avg_price    1014 non-null float64\n",
      "size         1014 non-null object\n",
      "nb_sold      1014 non-null float64\n",
      "dtypes: datetime64[ns](1), float64(2), int64(1), object(2)\n",
      "memory usage: 47.6+ KB\n"
     ]
    }
   ],
   "source": [
    "avocados.info()"
   ]
  },
  {
   "cell_type": "code",
   "execution_count": 12,
   "metadata": {},
   "outputs": [
    {
     "name": "stdout",
     "output_type": "stream",
     "text": [
      "        date          type  year  avg_price   size     nb_sold\n",
      "0 2015-12-27  conventional  2015       0.95  small  9626901.09\n",
      "1 2015-12-20  conventional  2015       0.98  small  8710021.76\n",
      "2 2015-12-13  conventional  2015       0.93  small  9855053.66\n",
      "3 2015-12-06  conventional  2015       0.89  small  9405464.36\n",
      "4 2015-11-29  conventional  2015       0.99  small  8094803.56\n"
     ]
    },
    {
     "data": {
      "image/png": "[encoded data removed]",
      "text/plain": [
       "<matplotlib.figure.Figure at 0x11353c4a8>"
      ]
     },
     "metadata": {},
     "output_type": "display_data"
    }
   ],
   "source": [
    "# Import matplotlib.pyplot with alias plt\n",
    "import matplotlib.pyplot as plt\n",
    "\n",
    "# Look at the first few rows of data\n",
    "print(avocados.head())\n",
    "\n",
    "# Get the total number of avocados sold of each size\n",
    "nb_sold_by_size = avocados.groupby(\"size\")['nb_sold'].sum()\n",
    "\n",
    "# Create a bar plot of the number of avocados sold by size\n",
    "nb_sold_by_size.plot(kind=\"bar\")\n",
    "\n",
    "# Show the plot\n",
    "plt.show()"
   ]
  },
  {
   "cell_type": "markdown",
   "metadata": {},
   "source": [
    "## Changes in sales over time\n"
   ]
  },
  {
   "cell_type": "code",
   "execution_count": 18,
   "metadata": {},
   "outputs": [
    {
     "data": {
      "image/png": "[encoded data removed]",
      "text/plain": [
       "<matplotlib.figure.Figure at 0x11b3d6048>"
      ]
     },
     "metadata": {},
     "output_type": "display_data"
    }
   ],
   "source": [
    "# Import matplotlib.pyplot with alias plt\n",
    "import matplotlib.pyplot as plt\n",
    "\n",
    "# Get the total number of avocados sold on each date\n",
    "nb_sold_by_date = avocados.groupby(\"date\")[\"nb_sold\"].sum()\n",
    "\n",
    "# Create a line plot of the number of avocados sold by date\n",
    "nb_sold_by_date.plot(kind=\"line\", x=\"date\", y=\"nb_sold\")\n",
    "\n",
    "# Show the plot\n",
    "plt.show()"
   ]
  },
  {
   "cell_type": "markdown",
   "metadata": {},
   "source": [
    "## Avocado supply and demand\n"
   ]
  },
  {
   "cell_type": "code",
   "execution_count": 21,
   "metadata": {},
   "outputs": [
    {
     "data": {
      "image/png": "[encoded data removed]",
      "text/plain": [
       "<matplotlib.figure.Figure at 0x11b6a5588>"
      ]
     },
     "metadata": {},
     "output_type": "display_data"
    }
   ],
   "source": [
    "# Scatter plot of nb_sold vs avg_price with title\n",
    "avocados.plot(kind=\"scatter\", x=\"nb_sold\", y=\"avg_price\", title=\"Number of avocados sold vs. average price\")\n",
    "\n",
    "# Show the plot\n",
    "plt.show()"
   ]
  },
  {
   "cell_type": "markdown",
   "metadata": {},
   "source": [
    "## Price of conventional vs. organic avocados"
   ]
  },
  {
   "cell_type": "code",
   "execution_count": 26,
   "metadata": {},
   "outputs": [
    {
     "data": {
      "image/png": "[encoded data removed]",
      "text/plain": [
       "<matplotlib.figure.Figure at 0x11b38ec18>"
      ]
     },
     "metadata": {},
     "output_type": "display_data"
    }
   ],
   "source": [
    "# Histogram of conventional avg_price \n",
    "avocados[avocados[\"type\"]==\"conventional\"][\"avg_price\"].hist(alpha=0.5, bins=20)\n",
    "\n",
    "# Histogram of organic avg_price\n",
    "avocados[avocados[\"type\"]==\"organic\"][\"avg_price\"].hist(alpha=0.5, bins=20)\n",
    "\n",
    "# Add a legend\n",
    "plt.legend([\"conventional\", \"organic\"])\n",
    "\n",
    "# Show the plot\n",
    "plt.show()"
   ]
  },
  {
   "cell_type": "markdown",
   "metadata": {
    "collapsed": true
   },
   "source": [
    "# Missing values\n"
   ]
  },
  {
   "cell_type": "markdown",
   "metadata": {},
   "source": [
    "## Finding missing values\n"
   ]
  },
  {
   "cell_type": "code",
   "execution_count": 52,
   "metadata": {},
   "outputs": [
    {
     "name": "stdout",
     "output_type": "stream",
     "text": [
      "<class 'pandas.core.frame.DataFrame'>\n",
      "RangeIndex: 52 entries, 0 to 51\n",
      "Data columns (total 10 columns):\n",
      "date               52 non-null object\n",
      "avg_price          52 non-null float64\n",
      "total_sold         52 non-null float64\n",
      "small_sold         46 non-null float64\n",
      "large_sold         46 non-null float64\n",
      "xl_sold            48 non-null float64\n",
      "total_bags_sold    52 non-null float64\n",
      "small_bags_sold    52 non-null float64\n",
      "large_bags_sold    52 non-null float64\n",
      "xl_bags_sold       52 non-null float64\n",
      "dtypes: float64(9), object(1)\n",
      "memory usage: 4.1+ KB\n"
     ]
    }
   ],
   "source": [
    "#create avocados2016 (subset only consisting of 2016 data)\n",
    "\n",
    "#avocados2016 = avocados[(avocados['date']>='2016-01-01') & (avocados['date']<='2016-12-13')]\n",
    "\n",
    "avocados_2016 = pd.read_csv(\"datasets/avocados_2016.csv\")\n",
    "\n",
    "avocados_2016.info()"
   ]
  },
  {
   "cell_type": "code",
   "execution_count": 55,
   "metadata": {},
   "outputs": [
    {
     "name": "stdout",
     "output_type": "stream",
     "text": [
      "     date  avg_price  total_sold  small_sold  large_sold  xl_sold  \\\n",
      "0   False      False       False       False       False    False   \n",
      "1   False      False       False       False       False    False   \n",
      "2   False      False       False       False        True    False   \n",
      "3   False      False       False       False       False    False   \n",
      "4   False      False       False       False       False     True   \n",
      "5   False      False       False        True       False    False   \n",
      "6   False      False       False       False       False    False   \n",
      "7   False      False       False       False        True    False   \n",
      "8   False      False       False       False       False    False   \n",
      "9   False      False       False       False       False    False   \n",
      "10  False      False       False       False        True    False   \n",
      "11  False      False       False       False       False    False   \n",
      "12  False      False       False       False       False    False   \n",
      "13  False      False       False       False       False    False   \n",
      "14  False      False       False       False       False    False   \n",
      "15  False      False       False       False        True    False   \n",
      "16  False      False       False       False       False     True   \n",
      "17  False      False       False       False       False    False   \n",
      "18  False      False       False       False       False    False   \n",
      "19  False      False       False       False        True    False   \n",
      "20  False      False       False       False       False    False   \n",
      "21  False      False       False       False       False    False   \n",
      "22  False      False       False       False       False    False   \n",
      "23  False      False       False       False       False    False   \n",
      "24  False      False       False       False       False    False   \n",
      "25  False      False       False       False       False    False   \n",
      "26  False      False       False       False       False    False   \n",
      "27  False      False       False       False       False    False   \n",
      "28  False      False       False       False       False    False   \n",
      "29  False      False       False       False       False    False   \n",
      "30  False      False       False       False       False     True   \n",
      "31  False      False       False       False       False    False   \n",
      "32  False      False       False       False       False     True   \n",
      "33  False      False       False       False       False    False   \n",
      "34  False      False       False       False       False    False   \n",
      "35  False      False       False       False       False    False   \n",
      "36  False      False       False        True       False    False   \n",
      "37  False      False       False       False        True    False   \n",
      "38  False      False       False       False       False    False   \n",
      "39  False      False       False       False       False    False   \n",
      "40  False      False       False        True       False    False   \n",
      "41  False      False       False       False       False    False   \n",
      "42  False      False       False       False       False    False   \n",
      "43  False      False       False       False       False    False   \n",
      "44  False      False       False        True       False    False   \n",
      "45  False      False       False       False       False    False   \n",
      "46  False      False       False       False       False    False   \n",
      "47  False      False       False       False       False    False   \n",
      "48  False      False       False       False       False    False   \n",
      "49  False      False       False       False       False    False   \n",
      "50  False      False       False        True       False    False   \n",
      "51  False      False       False        True       False    False   \n",
      "\n",
      "    total_bags_sold  small_bags_sold  large_bags_sold  xl_bags_sold  \n",
      "0             False            False            False         False  \n",
      "1             False            False            False         False  \n",
      "2             False            False            False         False  \n",
      "3             False            False            False         False  \n",
      "4             False            False            False         False  \n",
      "5             False            False            False         False  \n",
      "6             False            False            False         False  \n",
      "7             False            False            False         False  \n",
      "8             False            False            False         False  \n",
      "9             False            False            False         False  \n",
      "10            False            False            False         False  \n",
      "11            False            False            False         False  \n",
      "12            False            False            False         False  \n",
      "13            False            False            False         False  \n",
      "14            False            False            False         False  \n",
      "15            False            False            False         False  \n",
      "16            False            False            False         False  \n",
      "17            False            False            False         False  \n",
      "18            False            False            False         False  \n",
      "19            False            False            False         False  \n",
      "20            False            False            False         False  \n",
      "21            False            False            False         False  \n",
      "22            False            False            False         False  \n",
      "23            False            False            False         False  \n",
      "24            False            False            False         False  \n",
      "25            False            False            False         False  \n",
      "26            False            False            False         False  \n",
      "27            False            False            False         False  \n",
      "28            False            False            False         False  \n",
      "29            False            False            False         False  \n",
      "30            False            False            False         False  \n",
      "31            False            False            False         False  \n",
      "32            False            False            False         False  \n",
      "33            False            False            False         False  \n",
      "34            False            False            False         False  \n",
      "35            False            False            False         False  \n",
      "36            False            False            False         False  \n",
      "37            False            False            False         False  \n",
      "38            False            False            False         False  \n",
      "39            False            False            False         False  \n",
      "40            False            False            False         False  \n",
      "41            False            False            False         False  \n",
      "42            False            False            False         False  \n",
      "43            False            False            False         False  \n",
      "44            False            False            False         False  \n",
      "45            False            False            False         False  \n",
      "46            False            False            False         False  \n",
      "47            False            False            False         False  \n",
      "48            False            False            False         False  \n",
      "49            False            False            False         False  \n",
      "50            False            False            False         False  \n",
      "51            False            False            False         False  \n",
      "date               False\n",
      "avg_price          False\n",
      "total_sold         False\n",
      "small_sold          True\n",
      "large_sold          True\n",
      "xl_sold             True\n",
      "total_bags_sold    False\n",
      "small_bags_sold    False\n",
      "large_bags_sold    False\n",
      "xl_bags_sold       False\n",
      "dtype: bool\n"
     ]
    },
    {
     "data": {
      "image/png": "[encoded data removed]",
      "text/plain": [
       "<matplotlib.figure.Figure at 0x11ba63048>"
      ]
     },
     "metadata": {},
     "output_type": "display_data"
    }
   ],
   "source": [
    "# Import matplotlib.pyplot with alias plt\n",
    "import matplotlib.pyplot as plt\n",
    "\n",
    "# Check individual values for missing values\n",
    "print(avocados_2016.isnull())\n",
    "\n",
    "# Check each column for missing values\n",
    "print(avocados_2016.isnull().any())\n",
    "\n",
    "# Bar plot of missing values by variable\n",
    "avocados_2016.isnull().sum().plot(kind='bar')\n",
    "\n",
    "# Show plot\n",
    "plt.show()"
   ]
  },
  {
   "cell_type": "markdown",
   "metadata": {},
   "source": [
    "## Removing missing values\n"
   ]
  },
  {
   "cell_type": "code",
   "execution_count": 56,
   "metadata": {},
   "outputs": [
    {
     "name": "stdout",
     "output_type": "stream",
     "text": [
      "date               False\n",
      "avg_price          False\n",
      "total_sold         False\n",
      "small_sold         False\n",
      "large_sold         False\n",
      "xl_sold            False\n",
      "total_bags_sold    False\n",
      "small_bags_sold    False\n",
      "large_bags_sold    False\n",
      "xl_bags_sold       False\n",
      "dtype: bool\n"
     ]
    }
   ],
   "source": [
    "# Remove rows with missing values\n",
    "avocados_complete = avocados_2016.dropna()\n",
    "\n",
    "# Check if any columns contain missing values\n",
    "print(avocados_complete.isnull().any())"
   ]
  },
  {
   "cell_type": "markdown",
   "metadata": {},
   "source": [
    "## Replacing missing values\n"
   ]
  },
  {
   "cell_type": "code",
   "execution_count": 57,
   "metadata": {},
   "outputs": [
    {
     "data": {
      "image/png": "[encoded data removed]",
      "text/plain": [
       "<matplotlib.figure.Figure at 0x1189da748>"
      ]
     },
     "metadata": {},
     "output_type": "display_data"
    }
   ],
   "source": [
    "# List the columns with missing values\n",
    "cols_with_missing = [\"small_sold\",\"large_sold\",\"xl_sold\"]\n",
    "\n",
    "# Create histograms showing the distributions cols_with_missing\n",
    "avocados_2016[cols_with_missing].hist()\n",
    "\n",
    "# Show the plot\n",
    "plt.show()"
   ]
  },
  {
   "cell_type": "code",
   "execution_count": 58,
   "metadata": {},
   "outputs": [
    {
     "data": {
      "image/png": "[encoded data removed]",
      "text/plain": [
       "<matplotlib.figure.Figure at 0x11bb44208>"
      ]
     },
     "metadata": {},
     "output_type": "display_data"
    }
   ],
   "source": [
    "# Fill in missing values with 0\n",
    "avocados_filled = avocados_2016.fillna(0)\n",
    "\n",
    "# Create histograms of the filled columns\n",
    "avocados_filled[cols_with_missing].hist()\n",
    "\n",
    "# Show the plot\n",
    "plt.show()"
   ]
  },
  {
   "cell_type": "markdown",
   "metadata": {},
   "source": [
    "## Creating DataFrames\n"
   ]
  },
  {
   "cell_type": "markdown",
   "metadata": {},
   "source": [
    "## List of dictionaries\n"
   ]
  },
  {
   "cell_type": "code",
   "execution_count": 61,
   "metadata": {},
   "outputs": [
    {
     "name": "stdout",
     "output_type": "stream",
     "text": [
      "         date  large_sold  small_sold\n",
      "0  2019-11-03     7835071    10376832\n",
      "1  2019-11-10     8561348    10717154\n"
     ]
    }
   ],
   "source": [
    "# Create a list of dictionaries with new data\n",
    "avocados_list = [\n",
    "    {'date': \"2019-11-03\", 'small_sold': 10376832, 'large_sold': 7835071},\n",
    "    {'date': \"2019-11-10\", 'small_sold': 10717154, 'large_sold': 8561348},\n",
    "]\n",
    "\n",
    "# Convert list into DataFrame\n",
    "avocados_2019 = pd.DataFrame(avocados_list)\n",
    "\n",
    "# Print the new DataFrame\n",
    "print(avocados_2019)"
   ]
  },
  {
   "cell_type": "markdown",
   "metadata": {},
   "source": [
    "## Dictionary of lists\n"
   ]
  },
  {
   "cell_type": "code",
   "execution_count": 65,
   "metadata": {},
   "outputs": [
    {
     "name": "stdout",
     "output_type": "stream",
     "text": [
      "         date  large_sold  small_sold\n",
      "0  2019-11-17     7674135    10859987\n",
      "1  2019-12-01     6238096     9291631\n"
     ]
    }
   ],
   "source": [
    "# Create a dictionary of lists with new data\n",
    "avocados_dict = {\n",
    "  \"date\": [\"2019-11-17\", \"2019-12-01\"],\n",
    "  \"small_sold\": [10859987, 9291631 ],\n",
    "  \"large_sold\": [7674135, 6238096 ]\n",
    "}\n",
    "\n",
    "# Convert dictionary into DataFrame\n",
    "avocados_2019 = pd.DataFrame(avocados_dict)\n",
    "\n",
    "# Print the new DataFrame\n",
    "print(avocados_2019)"
   ]
  },
  {
   "cell_type": "markdown",
   "metadata": {},
   "source": [
    "# Reading and writing CSVs\n"
   ]
  },
  {
   "cell_type": "markdown",
   "metadata": {},
   "source": [
    "## CSV to DataFrame\n"
   ]
  },
  {
   "cell_type": "code",
   "execution_count": 66,
   "metadata": {},
   "outputs": [
    {
     "name": "stdout",
     "output_type": "stream",
     "text": [
      "             airline  year  nb_bumped  total_passengers\n",
      "0    DELTA AIR LINES  2017        679          99796155\n",
      "1     VIRGIN AMERICA  2017        165           6090029\n",
      "2    JETBLUE AIRWAYS  2017       1475          27255038\n",
      "3    UNITED AIRLINES  2017       2067          70030765\n",
      "4  HAWAIIAN AIRLINES  2017         92           8422734\n"
     ]
    }
   ],
   "source": [
    "# Read CSV as DataFrame called airline_bumping\n",
    "airline_bumping = pd.read_csv(\"datasets/airline_bumping.csv\")\n",
    "\n",
    "# Take a look at the DataFrame\n",
    "print(airline_bumping.head())"
   ]
  },
  {
   "cell_type": "code",
   "execution_count": 67,
   "metadata": {
    "collapsed": true
   },
   "outputs": [],
   "source": [
    "# For each airline, select nb_bumped and total_passengers and sum\n",
    "airline_totals = airline_bumping.groupby(\"airline\")[[\"nb_bumped\", \"total_passengers\"]].sum()"
   ]
  },
  {
   "cell_type": "code",
   "execution_count": 70,
   "metadata": {},
   "outputs": [],
   "source": [
    "# Create new col, bumps_per_10k: no. of bumps per 10k passengers for each airline\n",
    "airline_totals[\"bumps_per_10k\"] = airline_totals[\"nb_bumped\"] / airline_totals[\"total_passengers\"] * 10000"
   ]
  },
  {
   "cell_type": "code",
   "execution_count": 71,
   "metadata": {},
   "outputs": [
    {
     "name": "stdout",
     "output_type": "stream",
     "text": [
      "                     nb_bumped  total_passengers  bumps_per_10k\n",
      "airline                                                        \n",
      "ALASKA AIRLINES           1392          36543121       0.380920\n",
      "AMERICAN AIRLINES        11115         197365225       0.563169\n",
      "DELTA AIR LINES           1591         197033215       0.080748\n",
      "EXPRESSJET AIRLINES       3326          27858678       1.193883\n",
      "FRONTIER AIRLINES         1228          22954995       0.534960\n",
      "HAWAIIAN AIRLINES          122          16577572       0.073593\n",
      "JETBLUE AIRWAYS           3615          53245866       0.678926\n",
      "SKYWEST AIRLINES          3094          47091737       0.657015\n",
      "SOUTHWEST AIRLINES       18585         228142036       0.814624\n",
      "SPIRIT AIRLINES           2920          32304571       0.903897\n",
      "UNITED AIRLINES           4941         134468897       0.367446\n",
      "VIRGIN AMERICA             242          12017967       0.201365\n"
     ]
    }
   ],
   "source": [
    "# Print airline_totals\n",
    "print(airline_totals)"
   ]
  },
  {
   "cell_type": "markdown",
   "metadata": {},
   "source": [
    "## DataFrame to CSV\n"
   ]
  },
  {
   "cell_type": "code",
   "execution_count": 76,
   "metadata": {},
   "outputs": [
    {
     "name": "stdout",
     "output_type": "stream",
     "text": [
      "                     nb_bumped  total_passengers  bumps_per_10k\n",
      "airline                                                        \n",
      "EXPRESSJET AIRLINES       3326          27858678       1.193883\n",
      "SPIRIT AIRLINES           2920          32304571       0.903897\n",
      "SOUTHWEST AIRLINES       18585         228142036       0.814624\n",
      "JETBLUE AIRWAYS           3615          53245866       0.678926\n",
      "SKYWEST AIRLINES          3094          47091737       0.657015\n",
      "AMERICAN AIRLINES        11115         197365225       0.563169\n",
      "FRONTIER AIRLINES         1228          22954995       0.534960\n",
      "ALASKA AIRLINES           1392          36543121       0.380920\n",
      "UNITED AIRLINES           4941         134468897       0.367446\n",
      "VIRGIN AMERICA             242          12017967       0.201365\n",
      "DELTA AIR LINES           1591         197033215       0.080748\n",
      "HAWAIIAN AIRLINES          122          16577572       0.073593\n"
     ]
    }
   ],
   "source": [
    "# Create airline_totals_sorted\n",
    "airline_totals_sorted = airline_totals.sort_values(\"bumps_per_10k\", ascending=False)\n",
    "\n",
    "# Print airline_totals_sorted\n",
    "print(airline_totals_sorted)\n",
    "\n",
    "# Save as airline_totals_sorted.csv\n",
    "airline_totals_sorted.to_csv(\"datasets/airline_totals_sorted.csv\")"
   ]
  },
  {
   "cell_type": "code",
   "execution_count": null,
   "metadata": {
    "collapsed": true
   },
   "outputs": [],
   "source": []
  }
 ],
 "metadata": {
  "kernelspec": {
   "display_name": "Python 3",
   "language": "python",
   "name": "python3"
  },
  "language_info": {
   "codemirror_mode": {
    "name": "ipython",
    "version": 3
   },
   "file_extension": ".py",
   "mimetype": "text/x-python",
   "name": "python",
   "nbconvert_exporter": "python",
   "pygments_lexer": "ipython3",
   "version": "3.6.3"
  }
 },
 "nbformat": 4,
 "nbformat_minor": 2
}
