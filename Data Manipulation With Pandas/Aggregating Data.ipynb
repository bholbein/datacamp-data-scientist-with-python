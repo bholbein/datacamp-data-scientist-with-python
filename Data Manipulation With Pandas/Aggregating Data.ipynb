{
 "cells": [
  {
   "cell_type": "markdown",
   "metadata": {},
   "source": [
    "# Summary statistics"
   ]
  },
  {
   "cell_type": "code",
   "execution_count": 24,
   "metadata": {
    "collapsed": true
   },
   "outputs": [],
   "source": [
    "import pandas as pd\n",
    "import numpy as np\n",
    "sales = pd.read_csv('datasets/sales.csv')"
   ]
  },
  {
   "cell_type": "markdown",
   "metadata": {},
   "source": [
    "## Mean and median"
   ]
  },
  {
   "cell_type": "code",
   "execution_count": 25,
   "metadata": {},
   "outputs": [
    {
     "name": "stdout",
     "output_type": "stream",
     "text": [
      "   store type  department        date  weekly_sales  is_holiday  \\\n",
      "0      1    A           1  2010-02-05      24924.50       False   \n",
      "1      1    A           1  2010-03-05      21827.90       False   \n",
      "2      1    A           1  2010-04-02      57258.43       False   \n",
      "3      1    A           1  2010-05-07      17413.94       False   \n",
      "4      1    A           1  2010-06-04      17558.09       False   \n",
      "\n",
      "   temperature_c  fuel_price_usd_per_l  unemployment  \n",
      "0       5.727778              0.679451         8.106  \n",
      "1       8.055556              0.693452         8.106  \n",
      "2      16.816667              0.718284         7.808  \n",
      "3      22.527778              0.748928         7.808  \n",
      "4      27.050000              0.714586         7.808  \n",
      "<class 'pandas.core.frame.DataFrame'>\n",
      "RangeIndex: 10774 entries, 0 to 10773\n",
      "Data columns (total 9 columns):\n",
      "store                   10774 non-null int64\n",
      "type                    10774 non-null object\n",
      "department              10774 non-null int64\n",
      "date                    10774 non-null object\n",
      "weekly_sales            10774 non-null float64\n",
      "is_holiday              10774 non-null bool\n",
      "temperature_c           10774 non-null float64\n",
      "fuel_price_usd_per_l    10774 non-null float64\n",
      "unemployment            10774 non-null float64\n",
      "dtypes: bool(1), float64(4), int64(2), object(2)\n",
      "memory usage: 684.0+ KB\n",
      "None\n",
      "23843.950148505668\n",
      "12049.064999999999\n"
     ]
    }
   ],
   "source": [
    "# Print the head of the sales DataFrame\n",
    "print(sales.head())\n",
    "\n",
    "# Print the info about the sales DataFrame\n",
    "print(sales.info())\n",
    "\n",
    "# Print the mean of weekly_sales\n",
    "print(sales['weekly_sales'].mean())\n",
    "\n",
    "# Print the median of weekly_sales\n",
    "print(sales['weekly_sales'].median())"
   ]
  },
  {
   "cell_type": "markdown",
   "metadata": {},
   "source": [
    "## Summarizing dates\n"
   ]
  },
  {
   "cell_type": "code",
   "execution_count": 26,
   "metadata": {},
   "outputs": [
    {
     "name": "stdout",
     "output_type": "stream",
     "text": [
      "2012-10-26\n",
      "2010-02-05\n"
     ]
    }
   ],
   "source": [
    "# Print the maximum of the date column\n",
    "print(sales['date'].max())\n",
    "\n",
    "# Print the minimum of the date column\n",
    "print(sales['date'].min())"
   ]
  },
  {
   "cell_type": "markdown",
   "metadata": {},
   "source": [
    "## Efficient summaries\n"
   ]
  },
  {
   "cell_type": "code",
   "execution_count": 27,
   "metadata": {},
   "outputs": [
    {
     "name": "stdout",
     "output_type": "stream",
     "text": [
      "16.58333333333334\n"
     ]
    }
   ],
   "source": [
    "# A custom IQR function\n",
    "def iqr(column):\n",
    "    return column.quantile(0.75) - column.quantile(0.25)\n",
    "    \n",
    "# Print IQR of the temperature_c column\n",
    "print(sales[\"temperature_c\"].agg(iqr))"
   ]
  },
  {
   "cell_type": "markdown",
   "metadata": {},
   "source": [
    "## Cumulative statistics"
   ]
  },
  {
   "cell_type": "code",
   "execution_count": 28,
   "metadata": {},
   "outputs": [
    {
     "name": "stdout",
     "output_type": "stream",
     "text": [
      "          date  weekly_sales  cum_weekly_sales  cum_max_sales\n",
      "1   2010-02-05      24924.50          24924.50       24924.50\n",
      "8   2010-03-05      21827.90          46752.40       24924.50\n",
      "11  2010-04-02      57258.43         104010.83       57258.43\n",
      "7   2010-05-07      17413.94         121424.77       57258.43\n",
      "2   2010-06-04      17558.09         138982.86       57258.43\n",
      "0   2010-07-02      16333.14         155316.00       57258.43\n",
      "9   2010-08-06      17508.41         172824.41       57258.43\n",
      "5   2010-09-03      16241.78         189066.19       57258.43\n",
      "4   2010-10-01      20094.19         209160.38       57258.43\n",
      "3   2010-11-05      34238.88         243399.26       57258.43\n",
      "6   2010-12-03      22517.56         265916.82       57258.43\n",
      "10  2011-01-07      15984.24         281901.06       57258.43\n"
     ]
    }
   ],
   "source": [
    "sales_1_1 = pd.read_csv('datasets/sales_1_1.csv')\n",
    "\n",
    "# Sort sales_1_1 by date\n",
    "sales_1_1 = sales_1_1.sort_values('date')\n",
    "\n",
    "# Get the cumulative sum of weekly_sales, add as cum_weekly_sales col\n",
    "sales_1_1['cum_weekly_sales'] = sales_1_1['weekly_sales'].cumsum()\n",
    "\n",
    "# Get the cumulative max of weekly_sales, add as cum_max_sales col\n",
    "sales_1_1['cum_max_sales'] = sales_1_1['weekly_sales'].cummax()\n",
    "\n",
    "# See the columns you calculated\n",
    "print(sales_1_1[[\"date\", \"weekly_sales\", \"cum_weekly_sales\", \"cum_max_sales\"]])"
   ]
  },
  {
   "cell_type": "markdown",
   "metadata": {},
   "source": [
    "# Counting"
   ]
  },
  {
   "cell_type": "markdown",
   "metadata": {},
   "source": [
    "## Dropping Duplicates"
   ]
  },
  {
   "cell_type": "code",
   "execution_count": 29,
   "metadata": {
    "collapsed": true
   },
   "outputs": [],
   "source": [
    "sales = pd.read_csv('datasets/sales.csv')"
   ]
  },
  {
   "cell_type": "code",
   "execution_count": 30,
   "metadata": {},
   "outputs": [
    {
     "name": "stdout",
     "output_type": "stream",
     "text": [
      "      store type  department        date  weekly_sales  is_holiday  \\\n",
      "0         1    A           1  2010-02-05      24924.50       False   \n",
      "901       2    A           1  2010-02-05      35034.06       False   \n",
      "1798      4    A           1  2010-02-05      38724.42       False   \n",
      "2699      6    A           1  2010-02-05      25619.00       False   \n",
      "3593     10    B           1  2010-02-05      40212.84       False   \n",
      "\n",
      "      temperature_c  fuel_price_usd_per_l  unemployment  \n",
      "0          5.727778              0.679451         8.106  \n",
      "901        4.550000              0.679451         8.324  \n",
      "1798       6.533333              0.686319         8.623  \n",
      "2699       4.683333              0.679451         7.259  \n",
      "3593      12.411111              0.782478         9.765  \n",
      "    store type  department        date  weekly_sales  is_holiday  \\\n",
      "0       1    A           1  2010-02-05      24924.50       False   \n",
      "12      1    A           2  2010-02-05      50605.27       False   \n",
      "24      1    A           3  2010-02-05      13740.12       False   \n",
      "36      1    A           4  2010-02-05      39954.04       False   \n",
      "48      1    A           5  2010-02-05      32229.38       False   \n",
      "\n",
      "    temperature_c  fuel_price_usd_per_l  unemployment  \n",
      "0        5.727778              0.679451         8.106  \n",
      "12       5.727778              0.679451         8.106  \n",
      "24       5.727778              0.679451         8.106  \n",
      "36       5.727778              0.679451         8.106  \n",
      "48       5.727778              0.679451         8.106  \n",
      "498     2010-09-10\n",
      "691     2011-11-25\n",
      "2315    2010-02-12\n",
      "6735    2012-09-07\n",
      "6810    2010-12-31\n",
      "6815    2012-02-10\n",
      "6820    2011-09-09\n",
      "Name: date, dtype: object\n"
     ]
    }
   ],
   "source": [
    "# Drop duplicate store/type combinations\n",
    "store_types = sales.drop_duplicates(subset=['store', 'type'])\n",
    "print(store_types.head())\n",
    "\n",
    "# Drop duplicate store/department combinations\n",
    "store_depts = sales.drop_duplicates(subset=['store', 'department'])\n",
    "print(store_depts.head())\n",
    "\n",
    "# Subset the rows that are holiday weeks and drop duplicate dates\n",
    "holiday_dates = sales[sales['is_holiday']].drop_duplicates(subset='date')\n",
    "\n",
    "# Print date col of holiday_dates\n",
    "print(holiday_dates['date'])"
   ]
  },
  {
   "cell_type": "markdown",
   "metadata": {},
   "source": [
    "## Counting categorical variables"
   ]
  },
  {
   "cell_type": "code",
   "execution_count": 31,
   "metadata": {
    "collapsed": true
   },
   "outputs": [],
   "source": [
    "stores = pd.read_csv('datasets/stores.csv')\n",
    "departments = pd.read_csv('datasets/departments.csv')"
   ]
  },
  {
   "cell_type": "code",
   "execution_count": 32,
   "metadata": {},
   "outputs": [
    {
     "name": "stdout",
     "output_type": "stream",
     "text": [
      "A    11\n",
      "B     1\n",
      "Name: store_type, dtype: int64\n",
      "A    0.916667\n",
      "B    0.083333\n",
      "Name: store_type, dtype: float64\n",
      "41    12\n",
      "30    12\n",
      "23    12\n",
      "24    12\n",
      "25    12\n",
      "26    12\n",
      "27    12\n",
      "28    12\n",
      "29    12\n",
      "31    12\n",
      "21    12\n",
      "32    12\n",
      "33    12\n",
      "34    12\n",
      "35    12\n",
      "36    12\n",
      "38    12\n",
      "40    12\n",
      "22    12\n",
      "20    12\n",
      "42    12\n",
      "9     12\n",
      "2     12\n",
      "3     12\n",
      "4     12\n",
      "5     12\n",
      "6     12\n",
      "7     12\n",
      "8     12\n",
      "10    12\n",
      "      ..\n",
      "82    12\n",
      "83    12\n",
      "85    12\n",
      "87    12\n",
      "90    12\n",
      "91    12\n",
      "67    12\n",
      "60    12\n",
      "59    12\n",
      "58    12\n",
      "56    12\n",
      "55    12\n",
      "54    12\n",
      "52    12\n",
      "51    12\n",
      "94    12\n",
      "49    12\n",
      "95    12\n",
      "47    12\n",
      "46    12\n",
      "96    12\n",
      "45    12\n",
      "97    12\n",
      "92    12\n",
      "99    11\n",
      "37    10\n",
      "48     8\n",
      "50     6\n",
      "39     4\n",
      "43     2\n",
      "Name: department_num, Length: 80, dtype: int64\n",
      "41    0.012917\n",
      "30    0.012917\n",
      "23    0.012917\n",
      "24    0.012917\n",
      "25    0.012917\n",
      "26    0.012917\n",
      "27    0.012917\n",
      "28    0.012917\n",
      "29    0.012917\n",
      "31    0.012917\n",
      "21    0.012917\n",
      "32    0.012917\n",
      "33    0.012917\n",
      "34    0.012917\n",
      "35    0.012917\n",
      "36    0.012917\n",
      "38    0.012917\n",
      "40    0.012917\n",
      "22    0.012917\n",
      "20    0.012917\n",
      "42    0.012917\n",
      "9     0.012917\n",
      "2     0.012917\n",
      "3     0.012917\n",
      "4     0.012917\n",
      "5     0.012917\n",
      "6     0.012917\n",
      "7     0.012917\n",
      "8     0.012917\n",
      "10    0.012917\n",
      "        ...   \n",
      "82    0.012917\n",
      "83    0.012917\n",
      "85    0.012917\n",
      "87    0.012917\n",
      "90    0.012917\n",
      "91    0.012917\n",
      "67    0.012917\n",
      "60    0.012917\n",
      "59    0.012917\n",
      "58    0.012917\n",
      "56    0.012917\n",
      "55    0.012917\n",
      "54    0.012917\n",
      "52    0.012917\n",
      "51    0.012917\n",
      "94    0.012917\n",
      "49    0.012917\n",
      "95    0.012917\n",
      "47    0.012917\n",
      "46    0.012917\n",
      "96    0.012917\n",
      "45    0.012917\n",
      "97    0.012917\n",
      "92    0.012917\n",
      "99    0.011841\n",
      "37    0.010764\n",
      "48    0.008611\n",
      "50    0.006459\n",
      "39    0.004306\n",
      "43    0.002153\n",
      "Name: department_num, Length: 80, dtype: float64\n"
     ]
    }
   ],
   "source": [
    "# Count the number of stores of each type\n",
    "store_counts = stores[\"store_type\"].value_counts()\n",
    "print(store_counts)\n",
    "\n",
    "# Get the proportion of stores of each type\n",
    "store_props = stores[\"store_type\"].value_counts(normalize=True)\n",
    "print(store_props)\n",
    "\n",
    "# Count the number of each department number and sort\n",
    "dept_counts_sorted = departments[\"department_num\"].value_counts(sort=True)\n",
    "print(dept_counts_sorted)\n",
    "\n",
    "# Get the proportion of departments of each number and sort\n",
    "dept_props_sorted = departments[\"department_num\"].value_counts(sort=True, normalize=True)\n",
    "print(dept_props_sorted)"
   ]
  },
  {
   "cell_type": "markdown",
   "metadata": {
    "collapsed": true
   },
   "source": [
    "# Group Summary Statistics"
   ]
  },
  {
   "cell_type": "code",
   "execution_count": 36,
   "metadata": {},
   "outputs": [
    {
     "name": "stdout",
     "output_type": "stream",
     "text": [
      "1.0000000000000004\n"
     ]
    }
   ],
   "source": [
    "# Calc total weekly sales\n",
    "sales_all = sales[\"weekly_sales\"].sum()\n",
    "\n",
    "# Subset for type A stores, calc total weekly sales\n",
    "sales_A = sales[sales[\"type\"] == \"A\"][\"weekly_sales\"].sum()\n",
    "\n",
    "# Subset for type B stores, calc total weekly sales\n",
    "sales_B = sales[sales[\"type\"] == \"B\"][\"weekly_sales\"].sum()\n",
    "\n",
    "# Subset for type C stores, calc total weekly sales\n",
    "sales_C = sales[sales[\"type\"] == \"C\"][\"weekly_sales\"].sum()\n",
    "\n",
    "# Get proportion for each type\n",
    "sales_propn_by_type = [sales_A, sales_B, sales_C] / sales_all\n",
    "print(sales_propn_by_type)"
   ]
  },
  {
   "cell_type": "code",
   "execution_count": 39,
   "metadata": {},
   "outputs": [
    {
     "name": "stdout",
     "output_type": "stream",
     "text": [
      "type\n",
      "A    0.909775\n",
      "B    0.090225\n",
      "Name: weekly_sales, dtype: float64\n"
     ]
    }
   ],
   "source": [
    "# Group by type; calc total weekly sales\n",
    "sales_by_type = sales.groupby(\"type\")[\"weekly_sales\"].sum()\n",
    "\n",
    "# Get proportion for each type\n",
    "sales_propn_by_type = sales_by_type / sales_by_type.sum()\n",
    "print(sales_propn_by_type)"
   ]
  },
  {
   "cell_type": "code",
   "execution_count": 41,
   "metadata": {},
   "outputs": [
    {
     "name": "stdout",
     "output_type": "stream",
     "text": [
      "type  is_holiday\n",
      "A     False         2.336927e+08\n",
      "      True          2.360181e+04\n",
      "B     False         2.317678e+07\n",
      "      True          1.621410e+03\n",
      "Name: weekly_sales, dtype: float64\n"
     ]
    }
   ],
   "source": [
    "# From previous step\n",
    "sales_by_type = sales.groupby(\"type\")[\"weekly_sales\"].sum()\n",
    "\n",
    "# Group by type and is_holiday; calc total weekly sales\n",
    "sales_by_type_is_holiday = sales.groupby(['type', 'is_holiday'])['weekly_sales'].sum()\n",
    "print(sales_by_type_is_holiday)"
   ]
  },
  {
   "cell_type": "markdown",
   "metadata": {},
   "source": [
    "## Multiple grouped summaries"
   ]
  },
  {
   "cell_type": "code",
   "execution_count": 47,
   "metadata": {},
   "outputs": [
    {
     "name": "stdout",
     "output_type": "stream",
     "text": [
      "        amin       amax          mean    median\n",
      "type                                           \n",
      "A    -1098.0  293966.05  23674.667242  11943.92\n",
      "B     -798.0  232558.51  25696.678370  13336.08\n",
      "     unemployment                         fuel_price_usd_per_l            \\\n",
      "             amin   amax      mean median                 amin      amax   \n",
      "type                                                                       \n",
      "A           3.879  8.992  7.972611  8.067             0.664129  1.107410   \n",
      "B           7.170  9.765  9.279323  9.199             0.760023  1.107674   \n",
      "\n",
      "                          \n",
      "          mean    median  \n",
      "type                      \n",
      "A     0.744619  0.735455  \n",
      "B     0.805858  0.803348  \n"
     ]
    }
   ],
   "source": [
    "# Import NumPy with the alias np\n",
    "import numpy as np\n",
    "\n",
    "# For each store type, aggregate weekly_sales: get min, max, mean, and median\n",
    "sales_stats = sales.groupby(\"type\")[\"weekly_sales\"].agg([np.min, np.max, np.mean, np.median])\n",
    "\n",
    "# Print sales_stats\n",
    "print(sales_stats)\n",
    "\n",
    "# For each store type, aggregate unemployment and fuel_price_usd_per_l: get min, max, mean, and median\n",
    "unemp_fuel_stats = sales.groupby(\"type\")[[\"unemployment\", \"fuel_price_usd_per_l\"]].agg([np.min, np.max, np.mean, np.median])\n",
    "\n",
    "# Print unemp_fuel_stats\n",
    "print(unemp_fuel_stats)"
   ]
  },
  {
   "cell_type": "markdown",
   "metadata": {},
   "source": [
    "# Pivot tables"
   ]
  },
  {
   "cell_type": "markdown",
   "metadata": {},
   "source": [
    "## Pivoting on one variable\n"
   ]
  },
  {
   "cell_type": "code",
   "execution_count": 48,
   "metadata": {},
   "outputs": [
    {
     "name": "stdout",
     "output_type": "stream",
     "text": [
      "      weekly_sales\n",
      "type              \n",
      "A     23674.667242\n",
      "B     25696.678370\n"
     ]
    }
   ],
   "source": [
    "# Pivot for mean weekly_sales for each store type\n",
    "mean_sales_by_type = sales.pivot_table(values=\"weekly_sales\", index=\"type\")\n",
    "\n",
    "# Print mean_sales_by_type\n",
    "print(mean_sales_by_type)"
   ]
  },
  {
   "cell_type": "code",
   "execution_count": 49,
   "metadata": {},
   "outputs": [
    {
     "name": "stdout",
     "output_type": "stream",
     "text": [
      "              mean       median\n",
      "      weekly_sales weekly_sales\n",
      "type                           \n",
      "A     23674.667242     11943.92\n",
      "B     25696.678370     13336.08\n"
     ]
    }
   ],
   "source": [
    "# Import NumPy as np\n",
    "import numpy as np\n",
    "\n",
    "# Pivot for mean and median weekly_sales for each store type\n",
    "mean_med_sales_by_type = sales.pivot_table(values=\"weekly_sales\", index=\"type\", aggfunc=[np.mean, np.median])\n",
    "\n",
    "# Print mean_med_sales_by_type\n",
    "print(mean_med_sales_by_type)"
   ]
  },
  {
   "cell_type": "code",
   "execution_count": 52,
   "metadata": {},
   "outputs": [
    {
     "name": "stdout",
     "output_type": "stream",
     "text": [
      "is_holiday         False      True \n",
      "type                               \n",
      "A           23768.583523  590.04525\n",
      "B           25751.980533  810.70500\n"
     ]
    }
   ],
   "source": [
    "# Pivot for mean weekly_sales by store type and holiday \n",
    "mean_sales_by_type_holiday = sales.pivot_table(values=\"weekly_sales\", index=\"type\", columns=\"is_holiday\")\n",
    "\n",
    "# Print mean_sales_by_type_holiday\n",
    "print(mean_sales_by_type_holiday)"
   ]
  },
  {
   "cell_type": "markdown",
   "metadata": {},
   "source": [
    "## Fill in missing values and sum values with pivot tables\n"
   ]
  },
  {
   "cell_type": "code",
   "execution_count": 55,
   "metadata": {},
   "outputs": [
    {
     "name": "stdout",
     "output_type": "stream",
     "text": [
      "type                    A        B\n",
      "department                        \n",
      "1            30961.725379  44050.6\n",
      "2            67600.158788   112959\n",
      "3            17160.002955  30580.7\n",
      "4            44285.399091  51219.7\n",
      "5            34821.011364  63236.9\n",
      "6             7136.292652  10717.3\n",
      "7            38454.336818  52909.7\n",
      "8            48583.475303  90733.8\n",
      "9            30120.449924  66679.3\n",
      "10           30930.456364  48595.1\n",
      "11           23028.312727  35488.4\n",
      "12            6786.840606  9656.52\n",
      "13           51398.168561  67213.6\n",
      "14           22457.695303    40400\n",
      "16           25202.751894  29558.2\n",
      "17           16167.586136  27675.4\n",
      "18           12201.771212  17361.3\n",
      "19            1560.951719  3365.89\n",
      "20            8312.070227  16191.8\n",
      "21            9324.387197    10369\n",
      "22           14225.324167  26044.8\n",
      "23           29350.745076  63960.3\n",
      "24            8204.587576  15376.8\n",
      "25           13382.164242  20619.3\n",
      "26           11254.311212  17535.5\n",
      "27            2079.160455  4553.72\n",
      "28             968.247348  1422.76\n",
      "29            6859.108485  14999.8\n",
      "30            5403.619773  12442.1\n",
      "31            3221.001818  6151.99\n",
      "...                   ...      ...\n",
      "52            2919.754773  5360.84\n",
      "54             221.288030  551.017\n",
      "55           15368.005985  20420.7\n",
      "56            5529.171136   992.31\n",
      "58            6510.454621  5156.83\n",
      "59            1358.490530  2536.54\n",
      "60             461.176591   577.85\n",
      "67           12064.737500  13327.7\n",
      "71            7486.394318  15945.9\n",
      "72           72767.860227   145238\n",
      "74           22097.090152  44480.3\n",
      "77             370.651316     1590\n",
      "78               8.893878  1.71429\n",
      "79           40643.113106    39802\n",
      "80           22425.941667   116.68\n",
      "81           28417.831061  11084.6\n",
      "82           21698.068561  21943.5\n",
      "83            7020.960985  327.012\n",
      "85            3593.235379  2887.32\n",
      "87           22549.672045  21829.1\n",
      "90           85776.905909  14780.2\n",
      "91           70423.165227  13199.6\n",
      "92          139722.204773  50859.3\n",
      "93           53413.633939  1466.27\n",
      "94           60081.155303  161.446\n",
      "95          123933.787121  77082.1\n",
      "96           21367.042857  9528.54\n",
      "97           28471.266970  5828.87\n",
      "98           12875.423182  217.428\n",
      "99             379.123659        0\n",
      "\n",
      "[80 rows x 2 columns]\n"
     ]
    }
   ],
   "source": [
    "# Print mean weekly_sales by department and type; fill missing values with 0\n",
    "print(sales.pivot_table(values=\"weekly_sales\", index=\"department\", columns=\"type\", fill_value=\"0\"))"
   ]
  },
  {
   "cell_type": "code",
   "execution_count": 56,
   "metadata": {},
   "outputs": [
    {
     "name": "stdout",
     "output_type": "stream",
     "text": [
      "type                    A        B            All\n",
      "department                                       \n",
      "1            30961.725379  44050.6   32052.467153\n",
      "2            67600.158788   112959   71380.022778\n",
      "3            17160.002955  30580.7   18278.390625\n",
      "4            44285.399091  51219.7   44863.253681\n",
      "5            34821.011364  63236.9   37189.000000\n",
      "6             7136.292652  10717.3    7434.709722\n",
      "7            38454.336818  52909.7   39658.946528\n",
      "8            48583.475303  90733.8   52095.998472\n",
      "9            30120.449924  66679.3   33167.020903\n",
      "10           30930.456364  48595.1   32402.512222\n",
      "11           23028.312727  35488.4   24066.655764\n",
      "12            6786.840606  9656.52    7025.980556\n",
      "13           51398.168561  67213.6   52716.120139\n",
      "14           22457.695303    40400   23952.889028\n",
      "16           25202.751894  29558.2   25565.704444\n",
      "17           16167.586136  27675.4   17126.566597\n",
      "18           12201.771212  17361.3   12631.735903\n",
      "19            1560.951719  3365.89    1715.661143\n",
      "20            8312.070227  16191.8    8968.715208\n",
      "21            9324.387197    10369    9411.435625\n",
      "22           14225.324167  26044.8   15210.280278\n",
      "23           29350.745076  63960.3   32234.872431\n",
      "24            8204.587576  15376.8    8802.274375\n",
      "25           13382.164242  20619.3   13985.257639\n",
      "26           11254.311212  17535.5   11777.740069\n",
      "27            2079.160455  4553.72    2285.373819\n",
      "28             968.247348  1422.76    1006.123611\n",
      "29            6859.108485  14999.8    7537.503056\n",
      "30            5403.619773  12442.1    5990.158125\n",
      "31            3221.001818  6151.99    3465.251250\n",
      "...                   ...      ...            ...\n",
      "54             221.288030  551.017     248.765417\n",
      "55           15368.005985  20420.7   15789.066042\n",
      "56            5529.171136   992.31    5151.099375\n",
      "58            6510.454621  5156.83    6397.652847\n",
      "59            1358.490530  2536.54    1456.661181\n",
      "60             461.176591   577.85     470.899375\n",
      "67           12064.737500  13327.7   12169.985556\n",
      "71            7486.394318  15945.9    8191.349375\n",
      "72           72767.860227   145238   78807.015764\n",
      "74           22097.090152  44480.3   23962.359444\n",
      "77             370.651316     1590     401.916667\n",
      "78               8.893878  1.71429       7.996429\n",
      "79           40643.113106    39802   40573.023542\n",
      "80           22425.941667   116.68   20566.836528\n",
      "81           28417.831061  11084.6   26973.394444\n",
      "82           21698.068561  21943.5   21718.520833\n",
      "83            7020.960985  327.012    6463.131875\n",
      "85            3593.235379  2887.32    3534.408819\n",
      "87           22549.672045  21829.1   22489.627083\n",
      "90           85776.905909  14780.2   79860.514583\n",
      "91           70423.165227  13199.6   65654.535000\n",
      "92          139722.204773  50859.3  132316.960903\n",
      "93           53413.633939  1466.27   49084.687292\n",
      "94           60081.155303  161.446   55087.846181\n",
      "95          123933.787121  77082.1  120029.480069\n",
      "96           21367.042857  9528.54   20337.607681\n",
      "97           28471.266970  5828.87   26584.400833\n",
      "98           12875.423182  217.428   11820.590278\n",
      "99             379.123659        0     379.123659\n",
      "All          23674.667242  25696.7   23843.950149\n",
      "\n",
      "[81 rows x 3 columns]\n"
     ]
    }
   ],
   "source": [
    "# Print the mean weekly_sales by department and type; fill missing values with 0s; sum all rows and cols\n",
    "print(sales.pivot_table(values=\"weekly_sales\", index=\"department\", columns=\"type\", fill_value=\"0\", margins=True))"
   ]
  },
  {
   "cell_type": "code",
   "execution_count": null,
   "metadata": {
    "collapsed": true
   },
   "outputs": [],
   "source": []
  }
 ],
 "metadata": {
  "kernelspec": {
   "display_name": "Python 3",
   "language": "python",
   "name": "python3"
  },
  "language_info": {
   "codemirror_mode": {
    "name": "ipython",
    "version": 3
   },
   "file_extension": ".py",
   "mimetype": "text/x-python",
   "name": "python",
   "nbconvert_exporter": "python",
   "pygments_lexer": "ipython3",
   "version": "3.6.3"
  }
 },
 "nbformat": 4,
 "nbformat_minor": 2
}
